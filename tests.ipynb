{
 "cells": [
  {
   "cell_type": "code",
   "execution_count": 28,
   "metadata": {},
   "outputs": [],
   "source": [
    "import numpy as np\n",
    "import random"
   ]
  },
  {
   "cell_type": "code",
   "execution_count": 65,
   "metadata": {},
   "outputs": [
    {
     "name": "stdout",
     "output_type": "stream",
     "text": [
      "<class 'str'>\n"
     ]
    },
    {
     "data": {
      "text/plain": [
       "'\\x1b[31mHello, World!\\x1b[0m'"
      ]
     },
     "execution_count": 65,
     "metadata": {},
     "output_type": "execute_result"
    }
   ],
   "source": [
    "from termcolor import colored\n",
    "\n",
    "text = colored(\"Hello, World!\", \"red\")\n",
    "print(type(text))\n",
    "text"
   ]
  },
  {
   "cell_type": "code",
   "execution_count": 60,
   "metadata": {},
   "outputs": [
    {
     "name": "stdout",
     "output_type": "stream",
     "text": [
      "\u001b[31m0\u001b[0m\t\u001b[30m1\u001b[0m\t\u001b[32m2\u001b[0m\t\u001b[31m3\u001b[0m\t\u001b[30m4\u001b[0m\t\u001b[32m5\u001b[0m\t\u001b[31m6\u001b[0m\t\u001b[30m7\u001b[0m\t\u001b[32m8\u001b[0m\t\u001b[31m9\u001b[0m\t\n"
     ]
    }
   ],
   "source": [
    "colors = ['red', 'black', 'green']*4\n",
    "text = ''\n",
    "for i in range(10):\n",
    "    text += colored(str(i), colors[i])\n",
    "    text += '\\t'\n",
    "print(text)"
   ]
  },
  {
   "cell_type": "code",
   "execution_count": 62,
   "metadata": {},
   "outputs": [
    {
     "name": "stdout",
     "output_type": "stream",
     "text": [
      "🌸\n"
     ]
    }
   ],
   "source": [
    "print('🌸')"
   ]
  }
 ],
 "metadata": {
  "kernelspec": {
   "display_name": "env",
   "language": "python",
   "name": "python3"
  },
  "language_info": {
   "codemirror_mode": {
    "name": "ipython",
    "version": 3
   },
   "file_extension": ".py",
   "mimetype": "text/x-python",
   "name": "python",
   "nbconvert_exporter": "python",
   "pygments_lexer": "ipython3",
   "version": "3.10.6"
  }
 },
 "nbformat": 4,
 "nbformat_minor": 2
}
